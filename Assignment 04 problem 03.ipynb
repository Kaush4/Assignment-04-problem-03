{
 "cells": [
  {
   "cell_type": "code",
   "execution_count": 3,
   "id": "a5c45f2a",
   "metadata": {},
   "outputs": [],
   "source": [
    "# 03\n",
    "# Write a Python program to square the elements of a list using map() function.\n",
    "# Sample List: [4, 5, 2, 9]\n",
    "# Square the elements of the list:\n",
    "# [16, 25, 4, 81]\n",
    "# Answer"
   ]
  },
  {
   "cell_type": "code",
   "execution_count": 4,
   "id": "ecce2fb5",
   "metadata": {},
   "outputs": [
    {
     "name": "stdout",
     "output_type": "stream",
     "text": [
      "Enter list elements:5 4 2 10 20 9 8 50\n",
      "Sample list is [5, 4, 2, 10, 20, 9, 8, 50]\n",
      "list of squared elements is [25, 16, 4, 100, 400, 81, 64, 2500]\n"
     ]
    }
   ],
   "source": [
    "# using lambda\n",
    "l= list(map(int,input(\"Enter list elements:\").split()))\n",
    "print(\"Sample list is\",l)\n",
    "l1= list(map(lambda x:x**2,l))\n",
    "print(\"list of squared elements is\",l1)"
   ]
  },
  {
   "cell_type": "code",
   "execution_count": 6,
   "id": "af58f61a",
   "metadata": {},
   "outputs": [
    {
     "name": "stdout",
     "output_type": "stream",
     "text": [
      "Enter list elements:5 4 2 10 20 9 8 50\n",
      "Sample list is [5, 4, 2, 10, 20, 9, 8, 50]\n",
      "list of squared elements is [25, 16, 4, 100, 400, 81, 64, 2500]\n"
     ]
    }
   ],
   "source": [
    "# without using lambda\n",
    "l= list(map(int,input(\"Enter list elements:\").split()))\n",
    "print(\"Sample list is\",l)\n",
    "def sqr(x):\n",
    "    return x**2\n",
    "l1= list(map(sqr,l))\n",
    "print(\"list of squared elements is\",l1)"
   ]
  }
 ],
 "metadata": {
  "kernelspec": {
   "display_name": "Python 3 (ipykernel)",
   "language": "python",
   "name": "python3"
  },
  "language_info": {
   "codemirror_mode": {
    "name": "ipython",
    "version": 3
   },
   "file_extension": ".py",
   "mimetype": "text/x-python",
   "name": "python",
   "nbconvert_exporter": "python",
   "pygments_lexer": "ipython3",
   "version": "3.9.12"
  }
 },
 "nbformat": 4,
 "nbformat_minor": 5
}
